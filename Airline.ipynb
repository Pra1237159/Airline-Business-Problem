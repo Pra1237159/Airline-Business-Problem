{
 "cells": [
  {
   "cell_type": "code",
   "execution_count": null,
   "id": "97062ac9",
   "metadata": {},
   "outputs": [],
   "source": [
    "import sqlite3\n",
    "import pandas as pd\n",
    "import numpy as np\n",
    "import matplotlib.pyplot as plt\n",
    "import seaborn as sns\n",
    "import json\n",
    "import os\n",
    "import warnings\n",
    "warnings.filterwarnings('ignore')\n",
    "pd.set_option('display.float_format',str)"
   ]
  },
  {
   "cell_type": "code",
   "execution_count": null,
   "id": "08824e56",
   "metadata": {},
   "outputs": [],
   "source": [
    "os.chdir(\"C:/Users/DELL/Pandas\")"
   ]
  },
  {
   "cell_type": "code",
   "execution_count": null,
   "id": "ab88ebb7",
   "metadata": {
    "scrolled": true
   },
   "outputs": [],
   "source": [
    "import zipfile\n",
    "import os\n",
    "\n",
    "# Define the path to the zip file\n",
    "zip_file_path = 'C:/Users/DELL/Pandas/travel.sqlite.zip'\n",
    "\n",
    "# Create a directory to extract the database file\n",
    "extracted_dir = 'extracted_database'\n",
    "os.makedirs(extracted_dir, exist_ok=True)\n",
    "\n",
    "# Extract the zip file\n",
    "with zipfile.ZipFile(zip_file_path, 'r') as zip_ref:\n",
    "    zip_ref.extractall(extracted_dir)"
   ]
  },
  {
   "cell_type": "code",
   "execution_count": null,
   "id": "66e94ad6",
   "metadata": {},
   "outputs": [],
   "source": [
    "import sqlite3\n",
    "import pandas as pd\n",
    "\n",
    "# Find the database file in the extracted directory\n",
    "db_file = [f for f in os.listdir(extracted_dir) if f.endswith('.sqlite') or f.endswith('.db')][0]\n",
    "db_file_path = os.path.join(extracted_dir, db_file)\n",
    "\n",
    "# Connect to the SQLite database\n",
    "conn = sqlite3.connect(db_file_path)"
   ]
  },
  {
   "cell_type": "code",
   "execution_count": null,
   "id": "5d70dc32",
   "metadata": {},
   "outputs": [],
   "source": [
    "# Execute the query and fetch all table names\n",
    "table_names = pd.read_sql_query(\"SELECT name FROM sqlite_master WHERE type='table';\", conn)\n",
    "print(\"Tables in the database:\", table_names['name'].tolist())\n",
    "\n",
    "# Extract each table into a DataFrame\n",
    "tables = {}\n",
    "for table_name in table_names['name']:\n",
    "    query = f\"SELECT * FROM {table_name}\"\n",
    "    df = pd.read_sql_query(query, conn)\n",
    "    tables[table_name] = df\n",
    "    print(f\"Loaded table '{table_name}' with {df.shape[0]} rows and {df.shape[1]} columns.\")\n",
    "\n",
    "# Close the connection\n",
    "#conn.close()"
   ]
  },
  {
   "cell_type": "code",
   "execution_count": null,
   "id": "47b6e4ff",
   "metadata": {},
   "outputs": [],
   "source": [
    "table_names['name'].tolist()"
   ]
  },
  {
   "cell_type": "code",
   "execution_count": null,
   "id": "2de52b61",
   "metadata": {
    "scrolled": true
   },
   "outputs": [],
   "source": [
    "aircraft_data = tables['aircrafts_data']"
   ]
  },
  {
   "cell_type": "code",
   "execution_count": null,
   "id": "0b6d3a69",
   "metadata": {},
   "outputs": [],
   "source": [
    "aircraft_data['model'] = aircraft_data['model'].apply(lambda x: json.loads(x)['en'])"
   ]
  },
  {
   "cell_type": "code",
   "execution_count": null,
   "id": "5e0fe2ce",
   "metadata": {},
   "outputs": [],
   "source": [
    "aircraft_data"
   ]
  },
  {
   "cell_type": "code",
   "execution_count": null,
   "id": "0d3bd9d1",
   "metadata": {
    "scrolled": true
   },
   "outputs": [],
   "source": [
    "airports_data  = tables['airports_data']"
   ]
  },
  {
   "cell_type": "code",
   "execution_count": null,
   "id": "32e8f175",
   "metadata": {},
   "outputs": [],
   "source": [
    "airports_data['airport_name'] = airports_data['airport_name'].apply(lambda x: json.loads(x)['en'])\n",
    "airports_data['city'] = airports_data['city'].apply(lambda x: json.loads(x)['en'])"
   ]
  },
  {
   "cell_type": "code",
   "execution_count": null,
   "id": "130e76d1",
   "metadata": {},
   "outputs": [],
   "source": [
    "airports_data"
   ]
  },
  {
   "cell_type": "code",
   "execution_count": null,
   "id": "dcb65589",
   "metadata": {},
   "outputs": [],
   "source": [
    "boarding_passes = tables['boarding_passes']\n",
    "boarding_passes"
   ]
  },
  {
   "cell_type": "code",
   "execution_count": null,
   "id": "2821f330",
   "metadata": {},
   "outputs": [],
   "source": [
    "bookings = tables['bookings']\n",
    "bookings"
   ]
  },
  {
   "cell_type": "code",
   "execution_count": null,
   "id": "ff9fb674",
   "metadata": {},
   "outputs": [],
   "source": [
    "flights = tables['flights']\n",
    "flights"
   ]
  },
  {
   "cell_type": "code",
   "execution_count": null,
   "id": "33e91491",
   "metadata": {},
   "outputs": [],
   "source": [
    "seats = tables['seats']\n",
    "seats"
   ]
  },
  {
   "cell_type": "code",
   "execution_count": null,
   "id": "288d2492",
   "metadata": {},
   "outputs": [],
   "source": [
    "ticket_flights = tables['ticket_flights']\n",
    "ticket_flights"
   ]
  },
  {
   "cell_type": "code",
   "execution_count": null,
   "id": "1be48f23",
   "metadata": {},
   "outputs": [],
   "source": [
    "tickets = tables['tickets']\n",
    "tickets"
   ]
  },
  {
   "cell_type": "markdown",
   "id": "f5fa5510",
   "metadata": {},
   "source": [
    "* Checking for missing value"
   ]
  },
  {
   "cell_type": "code",
   "execution_count": null,
   "id": "d5a0b67c",
   "metadata": {},
   "outputs": [],
   "source": [
    "for table in table_names['name'].tolist():\n",
    "    print('\\ntable:', table)\n",
    "    df_table = pd.read_sql_query(f\"select * from {table}\", conn)\n",
    "    print(df_table.isnull().sum())"
   ]
  },
  {
   "cell_type": "markdown",
   "id": "91a9f91e",
   "metadata": {},
   "source": [
    "## Basic Analysis"
   ]
  },
  {
   "cell_type": "markdown",
   "id": "4e1acc4e",
   "metadata": {},
   "source": [
    "#### How many planes have more than 100 seats?"
   ]
  },
  {
   "cell_type": "code",
   "execution_count": null,
   "id": "39a3fe75",
   "metadata": {},
   "outputs": [],
   "source": [
    "seat_count = pd.read_sql_query(\"\"\"select aircraft_code, count(*) as Number_of_seats from seats\n",
    "                        group by aircraft_code Having Number_of_seats >100;\"\"\",conn)\n",
    "seat_count"
   ]
  },
  {
   "cell_type": "code",
   "execution_count": null,
   "id": "f78b5b0a",
   "metadata": {},
   "outputs": [],
   "source": [
    "ax = sns.barplot(x = 'aircraft_code', y ='Number_of_seats',\n",
    "            order = seat_count.sort_values('Number_of_seats', ascending =False)['aircraft_code'], \n",
    "            palette ='coolwarm',data  = seat_count)\n",
    "for container in ax.containers:\n",
    "    ax.bar_label(container)\n",
    "plt.xlabel('Aircraft', fontsize =16)\n",
    "plt.ylabel('Number_of_seats', fontsize =16)\n",
    "plt.grid('b')\n",
    "plt.show()"
   ]
  },
  {
   "cell_type": "markdown",
   "id": "8b5d1ee3",
   "metadata": {},
   "source": [
    "#### Represent variation in number of seats booked and total amount earned with time( per day)"
   ]
  },
  {
   "cell_type": "code",
   "execution_count": null,
   "id": "3ce6bc92",
   "metadata": {},
   "outputs": [],
   "source": [
    "booked_tickets = pd.read_sql_query(\"\"\"select * from tickets as t\n",
    "                     inner join bookings as b on t.book_ref = b.book_ref\"\"\",conn)\n",
    "booked_tickets.dtypes"
   ]
  },
  {
   "cell_type": "code",
   "execution_count": null,
   "id": "a19032e0",
   "metadata": {},
   "outputs": [],
   "source": [
    "import datetime\n",
    "booked_tickets['book_date'] = pd.to_datetime(booked_tickets['book_date'])\n",
    "booked_tickets.dtypes"
   ]
  },
  {
   "cell_type": "code",
   "execution_count": null,
   "id": "392c0ba1",
   "metadata": {},
   "outputs": [],
   "source": [
    "booked_tickets"
   ]
  },
  {
   "cell_type": "code",
   "execution_count": null,
   "id": "bef49c55",
   "metadata": {},
   "outputs": [],
   "source": [
    "booked_tickets['date']= booked_tickets['book_date'].dt.date\n",
    "booked_tickets"
   ]
  },
  {
   "cell_type": "code",
   "execution_count": null,
   "id": "acbf677c",
   "metadata": {},
   "outputs": [],
   "source": [
    "booking_count = booked_tickets.groupby(['date'])[['ticket_no']].count()"
   ]
  },
  {
   "cell_type": "code",
   "execution_count": null,
   "id": "f63bf458",
   "metadata": {},
   "outputs": [],
   "source": [
    "plt.figure(figsize = (18,6))\n",
    "plt.plot(booking_count.index, booking_count['ticket_no'], marker =\"*\")\n",
    "plt.xlabel('Date', fontsize = 16)\n",
    "plt.ylabel('Number of Tickets Booked', fontsize =16)\n",
    "plt.grid('b')\n",
    "plt.show()"
   ]
  },
  {
   "cell_type": "code",
   "execution_count": null,
   "id": "8609ea38",
   "metadata": {},
   "outputs": [],
   "source": [
    "amount_per_day = booked_tickets.groupby(['date'])[['total_amount']].sum()"
   ]
  },
  {
   "cell_type": "code",
   "execution_count": null,
   "id": "ec6f34f5",
   "metadata": {},
   "outputs": [],
   "source": [
    "plt.figure(figsize = (18,6))\n",
    "plt.plot(amount_per_day.index, amount_per_day['total_amount'], marker =\"*\")\n",
    "plt.xlabel('Date', fontsize = 16)\n",
    "plt.ylabel('Total Amount', fontsize =16)\n",
    "plt.grid('b')\n",
    "plt.show()"
   ]
  },
  {
   "cell_type": "markdown",
   "id": "ea171d1c",
   "metadata": {},
   "source": [
    "#### Calculate the avearge charges  for each aircraft with different conditions"
   ]
  },
  {
   "cell_type": "code",
   "execution_count": null,
   "id": "5a107ee9",
   "metadata": {},
   "outputs": [],
   "source": [
    "x = pd.read_sql_query(\"\"\" Select aircraft_code,fare_conditions, avg(amount) as avg_amount from ticket_flights as tf\n",
    "                    inner join flights as f on f.flight_id = tf.flight_id\n",
    "                    group by aircraft_code,fare_conditions\"\"\",conn)\n",
    "x"
   ]
  },
  {
   "cell_type": "code",
   "execution_count": null,
   "id": "1ed98f1a",
   "metadata": {},
   "outputs": [],
   "source": [
    "plt.figure(figsize =(12,6))\n",
    "ax =sns.barplot(x ='aircraft_code',y = 'avg_amount', hue = 'fare_conditions', data = x, palette = 'plasma')\n",
    "plt.xlabel('Aircraft', fontsize = 16)\n",
    "plt.ylabel('Average price per seat', fontsize =16)\n",
    "for container in ax.containers:\n",
    "    ax.bar_label(container)\n",
    "sns.set_style('darkgrid')\n",
    "plt.show()"
   ]
  },
  {
   "cell_type": "markdown",
   "id": "4cd96c05",
   "metadata": {},
   "source": [
    "# Analyzing occupancy rate"
   ]
  },
  {
   "cell_type": "markdown",
   "id": "7b2f3b37",
   "metadata": {},
   "source": [
    "#### For each aircraft, calculate the total revenue per year and average revenue per ticket."
   ]
  },
  {
   "cell_type": "code",
   "execution_count": null,
   "id": "287f6578",
   "metadata": {},
   "outputs": [],
   "source": [
    "dfa = pd.read_sql_query(\"\"\" select aircraft_code, ticket_count,total_revenue, total_revenue/ticket_count as avg_revenue_per_ticket from\n",
    "                    (select aircraft_code, count(ticket_no) as ticket_count, sum(amount) as total_revenue from ticket_flights as tf\n",
    "                        join flights as f on tf.flight_id = f.flight_id\n",
    "                        group by aircraft_code)\"\"\",conn)\n",
    "dfa"
   ]
  },
  {
   "cell_type": "code",
   "execution_count": null,
   "id": "807ed16f",
   "metadata": {},
   "outputs": [],
   "source": [
    "fig, ax = plt.subplots(figsize = (12,8))\n",
    "ax = sns.barplot(x ='aircraft_code',y ='total_revenue', palette ='plasma', data= dfa)\n",
    "ax.set_ylabel('Total reveune per year', fontsize =16)\n",
    "ax.tick_params(axis ='y',width = 2,labelsize = 'large')\n",
    "ax.set_xlabel('Aircarft', fontsize =16)\n",
    "ax.grid('b')\n",
    "for container in ax.containers:\n",
    "    ax.bar_label(container)\n",
    "ax1 = ax.twinx()\n",
    "ax1.plot(dfa['aircraft_code'],dfa['ticket_count'],color = 'r',marker = 'D')\n",
    "ax1.set_ylabel('Ticket Sold per year', fontsize = 16)\n",
    "ax1.tick_params(axis = 'y',color ='red',width = 2,labelsize = 'large')\n"
   ]
  },
  {
   "cell_type": "code",
   "execution_count": null,
   "id": "7d41c205",
   "metadata": {},
   "outputs": [],
   "source": [
    "ax = sns.barplot(x = 'aircraft_code', y ='avg_revenue_per_ticket',\n",
    "            order = dfa.sort_values('avg_revenue_per_ticket', ascending =False)['aircraft_code'], \n",
    "            palette ='coolwarm',data  = dfa)\n",
    "for container in ax.containers:\n",
    "    ax.bar_label(container)\n",
    "plt.xlabel('Aircraft', fontsize =16)\n",
    "plt.ylabel('Revenue per ticket sold', fontsize =16)\n",
    "plt.grid('b')\n",
    "plt.show()"
   ]
  },
  {
   "cell_type": "markdown",
   "id": "01dcca2b",
   "metadata": {},
   "source": [
    "#### Average occupancy per aircaft"
   ]
  },
  {
   "cell_type": "code",
   "execution_count": null,
   "id": "ab986914",
   "metadata": {},
   "outputs": [],
   "source": [
    "df_or =pd.read_sql_query(\"\"\" Select a.aircraft_code, avg(a.seats_count) as booked_seats, (avg(a.seats_count)/b.num_seats)*100 as occupancy_rate\n",
    "                    from \n",
    "                    (Select aircraft_code, f.flight_id, count(*) as seats_count from boarding_passes as bp\n",
    "                    inner join flights as f on f.flight_id =bp.flight_id\n",
    "                    group by aircraft_code, f.flight_id) as a\n",
    "                    inner join\n",
    "                    (select aircraft_code, count(*) as num_seats from seats\n",
    "                    group by aircraft_code) as b\n",
    "                    on a.aircraft_code =b.aircraft_code\n",
    "                    group by a.aircraft_code\"\"\",conn)\n",
    "df_or"
   ]
  },
  {
   "cell_type": "code",
   "execution_count": null,
   "id": "4310fec5",
   "metadata": {},
   "outputs": [],
   "source": [
    "plt.figure(figsize = (10,6))\n",
    "ax = sns.barplot(x = 'aircraft_code', y ='occupancy_rate',\n",
    "            order = df_or.sort_values('occupancy_rate', ascending =False)['aircraft_code'], \n",
    "            palette ='coolwarm',data  = df_or)\n",
    "for container in ax.containers:\n",
    "    ax.bar_label(container)\n",
    "plt.xlabel('Aircraft', fontsize =16)\n",
    "plt.ylabel('Occupancy Rate', fontsize =16)\n",
    "sns.set_style('darkgrid')\n",
    "plt.show()"
   ]
  },
  {
   "cell_type": "markdown",
   "id": "43313a0f",
   "metadata": {},
   "source": [
    "#### What would be the increase in total revenue given that all aircraft registerd 10% higher occupancy rate"
   ]
  },
  {
   "cell_type": "code",
   "execution_count": null,
   "id": "3ca41e9d",
   "metadata": {},
   "outputs": [],
   "source": [
    "df_or['10%_high_occupany_rate'] = df_or['occupancy_rate']*(1.1)\n",
    "df_or"
   ]
  },
  {
   "cell_type": "code",
   "execution_count": null,
   "id": "027ebf9e",
   "metadata": {},
   "outputs": [],
   "source": [
    "df_rev = pd.read_sql_query(\"\"\"select aircraft_code, sum(amount) as total_revenue from ticket_flights as tf\n",
    "                        join flights as f on tf.flight_id = f.flight_id\n",
    "                        group by aircraft_code\"\"\",conn)\n",
    "df_rev"
   ]
  },
  {
   "cell_type": "code",
   "execution_count": null,
   "id": "56e91548",
   "metadata": {},
   "outputs": [],
   "source": [
    "df_or['Inc Total Annual Reveune'] = (df_rev['total_revenue']/df_or['occupancy_rate'])*df_or['10%_high_occupany_rate']\n",
    "df_or['Total Annual Revenue'] = df_rev['total_revenue']\n",
    "df_or['Increase'] = (df_or['Inc Total Annual Reveune'] - df_or['Total Annual Revenue'])"
   ]
  },
  {
   "cell_type": "code",
   "execution_count": null,
   "id": "ef494a42",
   "metadata": {},
   "outputs": [],
   "source": [
    "df_or"
   ]
  },
  {
   "cell_type": "code",
   "execution_count": null,
   "id": "6a14996f",
   "metadata": {},
   "outputs": [],
   "source": [
    "plt.figure(figsize = (10,6))\n",
    "ax = sns.barplot(x = 'aircraft_code', y ='Increase',\n",
    "            order = df_or.sort_values('Increase', ascending =False)['aircraft_code'], \n",
    "            palette = 'flare', data  = df_or)\n",
    "for container in ax.containers:\n",
    "    ax.bar_label(container)\n",
    "plt.xlabel('Aircraft', fontsize =16)\n",
    "plt.ylabel('Revenue Incerased by', fontsize =16)\n",
    "plt.grid('b')\n",
    "plt.show()"
   ]
  },
  {
   "cell_type": "code",
   "execution_count": null,
   "id": "b01686ce",
   "metadata": {},
   "outputs": [],
   "source": []
  }
 ],
 "metadata": {
  "kernelspec": {
   "display_name": "Python 3 (ipykernel)",
   "language": "python",
   "name": "python3"
  },
  "language_info": {
   "codemirror_mode": {
    "name": "ipython",
    "version": 3
   },
   "file_extension": ".py",
   "mimetype": "text/x-python",
   "name": "python",
   "nbconvert_exporter": "python",
   "pygments_lexer": "ipython3",
   "version": "3.11.4"
  }
 },
 "nbformat": 4,
 "nbformat_minor": 5
}
